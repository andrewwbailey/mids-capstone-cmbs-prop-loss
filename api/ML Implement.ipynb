{
 "cells": [
  {
   "cell_type": "code",
   "execution_count": null,
   "id": "ef7c16e9",
   "metadata": {},
   "outputs": [],
   "source": [
    "!pip install scikit-learn==1.0.2\n",
    "!pip install imblearn"
   ]
  },
  {
   "cell_type": "code",
   "execution_count": null,
   "id": "e8940e0c",
   "metadata": {},
   "outputs": [],
   "source": [
    "sklearn.__version__"
   ]
  },
  {
   "cell_type": "code",
   "execution_count": null,
   "id": "9c2f4a96",
   "metadata": {},
   "outputs": [],
   "source": [
    "import pickle\n",
    "import pandas as pd\n",
    "import imblearn\n",
    "import sklearn\n",
    "\n",
    "from sklearn.compose import ColumnTransformer\n",
    "from sklearn.datasets import fetch_openml\n",
    "from sklearn.pipeline import Pipeline\n",
    "from sklearn.impute import SimpleImputer\n",
    "from sklearn.preprocessing import StandardScaler, OneHotEncoder, PolynomialFeatures\n",
    "from sklearn.linear_model import LogisticRegression\n",
    "from sklearn.model_selection import train_test_split, RandomizedSearchCV, StratifiedKFold\n",
    "from sklearn.feature_selection import SelectPercentile, chi2\n",
    "from sklearn.metrics import classification_report, make_scorer,recall_score, accuracy_score, precision_score\n",
    "from sklearn.model_selection import train_test_split\n",
    "from sklearn.model_selection import GridSearchCV\n",
    "from sklearn.metrics import confusion_matrix\n",
    "from sklearn import metrics\n"
   ]
  },
  {
   "cell_type": "code",
   "execution_count": null,
   "id": "7a0b848f",
   "metadata": {},
   "outputs": [],
   "source": [
    "features = [\"effective_rent\", \n",
    "    \"zip\",\n",
    "    'USA_WIND', \n",
    "    'USA_GUST',\n",
    "    'storm_category',\n",
    "    'prop_rent_growth', \n",
    "    'sma_rent_growth',\n",
    "    'occupancy',\n",
    "    \"distance_from_coast\",\n",
    "    \"RISK_SCORE\", \n",
    "    \"CFLD_RISKS\",\n",
    "    \"HRCN_RISKS\", \n",
    "    \"quarter_num\"]"
   ]
  },
  {
   "cell_type": "code",
   "execution_count": null,
   "id": "9ba90d11",
   "metadata": {},
   "outputs": [],
   "source": [
    "# File is in our Google Drive Data folder\n",
    "train_x = pd.read_csv('physical_risk_property_pred.csv')\n",
    "train_x"
   ]
  },
  {
   "cell_type": "code",
   "execution_count": null,
   "id": "13816bf8",
   "metadata": {},
   "outputs": [],
   "source": [
    "train_x['quarter_num'] = train_x['quarter_num'].astype('category')"
   ]
  },
  {
   "cell_type": "code",
   "execution_count": null,
   "id": "f7c48292",
   "metadata": {},
   "outputs": [],
   "source": [
    "predict_rec = train_x.iloc[80:81,train_x.columns.isin(features)]\n",
    "predict_rec"
   ]
  },
  {
   "cell_type": "code",
   "execution_count": null,
   "id": "5f1a4dfc",
   "metadata": {},
   "outputs": [],
   "source": [
    "predict_rec.columns"
   ]
  },
  {
   "cell_type": "code",
   "execution_count": null,
   "id": "7359a797",
   "metadata": {},
   "outputs": [],
   "source": [
    "temprec = list(predict_rec.values)\n",
    "temprec"
   ]
  },
  {
   "cell_type": "code",
   "execution_count": null,
   "id": "4ad503ed",
   "metadata": {},
   "outputs": [],
   "source": [
    "predict_rec = train_x.iloc[0:1,train_x.columns.isin(features)]\n",
    "predict_rec = list(predict_rec.values)\n",
    "predict_sample = []\n",
    "predict_sample.append(predict_rec)\n",
    "#predict_sample\n",
    "predict_rec"
   ]
  },
  {
   "cell_type": "code",
   "execution_count": null,
   "id": "10fb79c2",
   "metadata": {},
   "outputs": [],
   "source": [
    "predict_rec"
   ]
  },
  {
   "cell_type": "code",
   "execution_count": null,
   "id": "faee56ff",
   "metadata": {},
   "outputs": [],
   "source": [
    "from joblib import dump, load\n",
    "\n",
    "estimator = load(\"best_rf_tuned.joblib\")"
   ]
  },
  {
   "cell_type": "code",
   "execution_count": null,
   "id": "652b18ca",
   "metadata": {},
   "outputs": [],
   "source": [
    "prediction = estimator.predict(predict_rec)"
   ]
  },
  {
   "cell_type": "code",
   "execution_count": null,
   "id": "2c6df34a",
   "metadata": {},
   "outputs": [],
   "source": [
    "prediction"
   ]
  },
  {
   "cell_type": "code",
   "execution_count": null,
   "id": "b343455e",
   "metadata": {},
   "outputs": [],
   "source": [
    "!pip freeze"
   ]
  },
  {
   "cell_type": "code",
   "execution_count": null,
   "id": "f9cadbb0",
   "metadata": {},
   "outputs": [],
   "source": [
    "input_data = {'USA_WIND': [68], \n",
    "        'USA_GUST': [130], \n",
    "        'USA_SSHS': [4], \n",
    "        'effective_rent': [89993.43], \n",
    "        'expose_status_code': [1], \n",
    "        'zip': ['32818'], \n",
    "        'occupancy': [90], \n",
    "        'prop_rent_growth': [0.007035],\n",
    "        'sma_rent_growth': [0.008267], \n",
    "        'distance_from_coast': [75.76417], \n",
    "        'RISK_SCORE': [33.495147], \n",
    "        'CFLD_RISKS': [1.988109],\n",
    "        'HRCN_RISKS': [18.73492],\n",
    "        'quarter_num': [3]}\n",
    "data_df = pd.DataFrame.from_dict(input_data, orient='columns')\n"
   ]
  },
  {
   "cell_type": "code",
   "execution_count": null,
   "id": "23b1f9e5",
   "metadata": {},
   "outputs": [],
   "source": [
    "data_df"
   ]
  },
  {
   "cell_type": "code",
   "execution_count": null,
   "id": "baad6dce",
   "metadata": {},
   "outputs": [],
   "source": [
    "prediction = estimator.predict(data_df)\n",
    "prediction"
   ]
  },
  {
   "cell_type": "code",
   "execution_count": null,
   "id": "760e321b",
   "metadata": {},
   "outputs": [],
   "source": [
    "api = prediction[0]\n",
    "api"
   ]
  }
 ],
 "metadata": {
  "kernelspec": {
   "display_name": "Python 3 (ipykernel)",
   "language": "python",
   "name": "python3"
  },
  "language_info": {
   "codemirror_mode": {
    "name": "ipython",
    "version": 3
   },
   "file_extension": ".py",
   "mimetype": "text/x-python",
   "name": "python",
   "nbconvert_exporter": "python",
   "pygments_lexer": "ipython3",
   "version": "3.9.6"
  }
 },
 "nbformat": 4,
 "nbformat_minor": 5
}
