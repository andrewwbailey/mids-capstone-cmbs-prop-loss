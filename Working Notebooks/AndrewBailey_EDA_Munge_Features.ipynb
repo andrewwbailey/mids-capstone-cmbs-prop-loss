{
 "cells": [
  {
   "cell_type": "markdown",
   "id": "78e80082",
   "metadata": {},
   "source": [
    "# Andrew Bailey EDA, Data Munging, & Feature Engineering"
   ]
  },
  {
   "cell_type": "code",
   "execution_count": null,
   "id": "ebd76dec",
   "metadata": {},
   "outputs": [],
   "source": [
    "import pandas as pd\n",
    "import numpy as np\n",
    "import openpyxl\n",
    "import matplotlib as plt"
   ]
  },
  {
   "cell_type": "markdown",
   "id": "bb848c53",
   "metadata": {},
   "source": [
    "## Missing Value Analysis"
   ]
  },
  {
   "cell_type": "code",
   "execution_count": null,
   "id": "b977bec7",
   "metadata": {},
   "outputs": [],
   "source": [
    "# TODO: dtypes_hurricane = {\"SID\": string, \"SEASON\": ?, \"NUMBER\": Int64, \"BASIN\": string}\n",
    "hurricane_data = pd.read_csv('content/ibtracs.NA.csv')"
   ]
  },
  {
   "cell_type": "code",
   "execution_count": null,
   "id": "3b3ebd64",
   "metadata": {},
   "outputs": [],
   "source": [
    "hurricane_data.head(2)"
   ]
  },
  {
   "cell_type": "code",
   "execution_count": null,
   "id": "6f9d33ef",
   "metadata": {},
   "outputs": [],
   "source": [
    "loans_data = pd.read_csv('content/loans_parse.csv')"
   ]
  },
  {
   "cell_type": "code",
   "execution_count": null,
   "id": "3342f54e",
   "metadata": {},
   "outputs": [],
   "source": [
    "loans_data.head(2)"
   ]
  },
  {
   "cell_type": "code",
   "execution_count": null,
   "id": "9728378f",
   "metadata": {},
   "outputs": [],
   "source": [
    "cities_data = pd.read_csv('content/uscities.csv')"
   ]
  },
  {
   "cell_type": "code",
   "execution_count": null,
   "id": "83e93d3c",
   "metadata": {},
   "outputs": [],
   "source": [
    "cities_data.head(2)"
   ]
  },
  {
   "cell_type": "code",
   "execution_count": null,
   "id": "1cfb9166",
   "metadata": {},
   "outputs": [],
   "source": [
    "hurricane_data_count = len(hurricane_data)\n",
    "\n",
    "hurricane_null_count = hurricane_data.isna().sum()\n",
    "hurricane_null_count = hurricane_null_count.to_frame()\n",
    "hurricane_null_count = hurricane_null_count.rename(columns={0: \"null_count\"})\n",
    "hurricane_null_count = hurricane_null_count.sort_values(by='null_count',ascending=False)\n",
    "hurricane_null_count['pct_null'] = (hurricane_null_count['null_count'] / hurricane_data_count) * 100\n",
    "hurricane_null_count"
   ]
  },
  {
   "cell_type": "code",
   "execution_count": null,
   "id": "41c7dff3",
   "metadata": {},
   "outputs": [],
   "source": [
    "loan_data_count = len(loans_data)\n",
    "\n",
    "loans_null_count = loans_data.isna().sum()\n",
    "loans_null_count = loans_null_count.to_frame()\n",
    "loans_null_count = loans_null_count.rename(columns={0: \"null_count\"})\n",
    "loans_null_count = loans_null_count.sort_values(by='null_count',ascending=False)\n",
    "loans_null_count['pct_null'] = (loans_null_count['null_count'] / loan_data_count) * 100\n",
    "loans_null_count"
   ]
  },
  {
   "cell_type": "code",
   "execution_count": null,
   "id": "0ee7795f",
   "metadata": {},
   "outputs": [],
   "source": [
    "cities_data_count = len(cities_data)\n",
    "\n",
    "cities_null_count = cities_data.isna().sum()\n",
    "cities_null_count = cities_null_count.to_frame()\n",
    "cities_null_count = cities_null_count.rename(columns={0: \"null_count\"})\n",
    "\n",
    "cities_null_count = cities_null_count.sort_values(by='null_count',ascending=False)\n",
    "cities_null_count['pct_null'] = (cities_null_count['null_count'] / cities_data_count) * 100\n",
    "cities_null_count\n",
    "\n",
    "cities_null_count"
   ]
  },
  {
   "cell_type": "markdown",
   "id": "d5dd6b9c",
   "metadata": {},
   "source": [
    "## Joined Dataset"
   ]
  },
  {
   "cell_type": "code",
   "execution_count": null,
   "id": "e7bb659a",
   "metadata": {},
   "outputs": [],
   "source": [
    "joined_data = pd.read_csv('content/zillow_with_expose_and_pre_exp.csv')"
   ]
  },
  {
   "cell_type": "code",
   "execution_count": null,
   "id": "a10545fc",
   "metadata": {},
   "outputs": [],
   "source": [
    "joined_data.head(10)"
   ]
  },
  {
   "cell_type": "code",
   "execution_count": null,
   "id": "547be33f",
   "metadata": {},
   "outputs": [],
   "source": [
    "joined_data['expose_status'].unique()"
   ]
  }
 ],
 "metadata": {
  "kernelspec": {
   "display_name": "Python 3 (ipykernel)",
   "language": "python",
   "name": "python3"
  },
  "language_info": {
   "codemirror_mode": {
    "name": "ipython",
    "version": 3
   },
   "file_extension": ".py",
   "mimetype": "text/x-python",
   "name": "python",
   "nbconvert_exporter": "python",
   "pygments_lexer": "ipython3",
   "version": "3.10.9"
  }
 },
 "nbformat": 4,
 "nbformat_minor": 5
}
